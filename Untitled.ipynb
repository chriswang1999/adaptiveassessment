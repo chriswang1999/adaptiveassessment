{
 "cells": [
  {
   "cell_type": "code",
   "execution_count": 1,
   "metadata": {
    "scrolled": true
   },
   "outputs": [
    {
     "name": "stdout",
     "output_type": "stream",
     "text": [
      "Hello GMAT world!\n",
      "173 57\n"
     ]
    },
    {
     "name": "stderr",
     "output_type": "stream",
     "text": [
      "/Users/chriswang/anaconda3/lib/python3.6/site-packages/tensorflow/python/ops/gradients_impl.py:93: UserWarning: Converting sparse IndexedSlices to a dense Tensor of unknown shape. This may consume a large amount of memory.\n",
      "  \"Converting sparse IndexedSlices to a dense Tensor of unknown shape. \"\n"
     ]
    },
    {
     "name": "stdout",
     "output_type": "stream",
     "text": [
      "0\n",
      "3002.83\n",
      "2998.77\n",
      "2994.76\n",
      "2990.31\n",
      "2985.28\n",
      "2980.21\n",
      "2974.37\n",
      "2967.26\n",
      "3695.48\n",
      "3690.61\n",
      "3683.03\n",
      "3669.07\n",
      "3643.26\n",
      "3592.65\n",
      "3508.33\n",
      "3393.93\n",
      "156.523\n",
      "4905.0\n",
      "9658.0\n",
      "9825.0\n",
      "19316.0\n",
      "14725.0\n",
      "28974.0\n",
      "19650.0\n",
      "38632.0\n",
      "24571.0\n",
      "48290.0\n",
      "29421.0\n",
      "57948.0\n",
      "34332.0\n",
      "67606.0\n",
      "39228.0\n",
      "77264.0\n",
      "43772.0\n",
      "86355.0\n",
      "48353.0\n",
      "95446.0\n",
      "52913.0\n",
      "104537.0\n",
      "57429.0\n",
      "113628.0\n",
      "61973.0\n",
      "122719.0\n",
      "66543.0\n",
      "131810.0\n",
      "71026.0\n",
      "140901.0\n",
      "75637.0\n",
      "149992.0\n",
      "76525.0\n",
      "151776.0\n",
      "77390.0\n",
      "153560.0\n",
      "None\n"
     ]
    }
   ],
   "source": [
    "import dataman.manager as data_manager\n",
    "import dataman.importers.gmat as gmat_importer\n",
    "import eval\n",
    "from models.DKTModel import DKTModel\n",
    "\n",
    "print(\"Hello GMAT world!\")\n",
    "gmat_data = gmat_importer.get_gmat_data()\n",
    "\n",
    "manager = data_manager.StudentData(gmat_data, \"Combined GMAT data, inside and outside class\")\n",
    "trajectories = manager.training_trajectories()\n",
    "train_trajectories = manager.training_trajectories(0., 0.1)\n",
    "eval_trajectories = manager.training_trajectories(0.9, 1.)\n",
    "\n",
    "eval.train_and_eval(DKTModel, train_trajectories, eval_trajectories)"
   ]
  },
  {
   "cell_type": "code",
   "execution_count": null,
   "metadata": {
    "collapsed": true
   },
   "outputs": [],
   "source": []
  }
 ],
 "metadata": {
  "kernelspec": {
   "display_name": "Python 3",
   "language": "python",
   "name": "python3"
  },
  "language_info": {
   "codemirror_mode": {
    "name": "ipython",
    "version": 3
   },
   "file_extension": ".py",
   "mimetype": "text/x-python",
   "name": "python",
   "nbconvert_exporter": "python",
   "pygments_lexer": "ipython3",
   "version": "3.6.3"
  }
 },
 "nbformat": 4,
 "nbformat_minor": 2
}
